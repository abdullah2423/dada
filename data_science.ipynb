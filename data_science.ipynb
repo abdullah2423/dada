{
  "nbformat": 4,
  "nbformat_minor": 0,
  "metadata": {
    "colab": {
      "provenance": [],
      "authorship_tag": "ABX9TyNcCXNPZfCG7eeNn/9dr+Vs"
    },
    "kernelspec": {
      "name": "python3",
      "display_name": "Python 3"
    },
    "language_info": {
      "name": "python"
    }
  },
  "cells": [
    {
      "cell_type": "code",
      "source": [
        "#Data Exploration:"
      ],
      "metadata": {
        "id": "xFZdQGs6hPEU"
      },
      "execution_count": 272,
      "outputs": []
    },
    {
      "cell_type": "code",
      "execution_count": 273,
      "metadata": {
        "id": "CFUNsUGgfZe7"
      },
      "outputs": [],
      "source": [
        "import pandas as pd\n",
        "df=pd.read_csv(\"data.csv\")"
      ]
    },
    {
      "cell_type": "code",
      "source": [
        "# Display the first few rows of the dataset to understand its structure\n",
        "print(df.head())"
      ],
      "metadata": {
        "colab": {
          "base_uri": "https://localhost:8080/"
        },
        "id": "rMHL3d7egvJK",
        "outputId": "9d7d0b81-838b-4a33-db68-46a46d3fd678"
      },
      "execution_count": 274,
      "outputs": [
        {
          "output_type": "stream",
          "name": "stdout",
          "text": [
            "  gender  software  security  calculas  programming\n",
            "0   male      10.0       6.0       NaN         19.0\n",
            "1   male       9.0      12.0       9.5         16.0\n",
            "2   male      12.0       NaN       7.0         18.0\n",
            "3   male      10.0       6.0       NaN         13.0\n",
            "4   male      13.0      10.0       NaN         12.0\n"
          ]
        }
      ]
    },
    {
      "cell_type": "code",
      "source": [
        "# Display the last few rows of the dataset to understand its structure\n",
        "print(df.tail())"
      ],
      "metadata": {
        "colab": {
          "base_uri": "https://localhost:8080/"
        },
        "id": "P2vdSNcFg7v6",
        "outputId": "439b51e3-c909-4c8e-ae8d-eab7e18ea9a5"
      },
      "execution_count": 275,
      "outputs": [
        {
          "output_type": "stream",
          "name": "stdout",
          "text": [
            "    gender  software  security  calculas  programming\n",
            "453   male      20.0      19.0      18.5          NaN\n",
            "454   male      20.0      19.0      19.0          NaN\n",
            "455   male      13.0      13.0      10.0          NaN\n",
            "456   male      19.0      12.0      20.0          NaN\n",
            "457   male      15.0      10.0       NaN          NaN\n"
          ]
        }
      ]
    },
    {
      "cell_type": "code",
      "source": [
        "print(df.info())"
      ],
      "metadata": {
        "colab": {
          "base_uri": "https://localhost:8080/"
        },
        "id": "DU4GuG-4hBwz",
        "outputId": "0d664276-3d15-4667-fba9-62af48ad0856"
      },
      "execution_count": 276,
      "outputs": [
        {
          "output_type": "stream",
          "name": "stdout",
          "text": [
            "<class 'pandas.core.frame.DataFrame'>\n",
            "RangeIndex: 458 entries, 0 to 457\n",
            "Data columns (total 5 columns):\n",
            " #   Column       Non-Null Count  Dtype  \n",
            "---  ------       --------------  -----  \n",
            " 0   gender       458 non-null    object \n",
            " 1   software     453 non-null    float64\n",
            " 2   security     438 non-null    float64\n",
            " 3   calculas     371 non-null    float64\n",
            " 4   programming  221 non-null    float64\n",
            "dtypes: float64(4), object(1)\n",
            "memory usage: 18.0+ KB\n",
            "None\n"
          ]
        }
      ]
    },
    {
      "cell_type": "code",
      "source": [
        "# Summary statistics of the dataset\n",
        "print(df.describe())"
      ],
      "metadata": {
        "colab": {
          "base_uri": "https://localhost:8080/"
        },
        "id": "R0LUvSauhIa0",
        "outputId": "55adc539-c6c8-4c2d-f140-1e79a035e649"
      },
      "execution_count": 277,
      "outputs": [
        {
          "output_type": "stream",
          "name": "stdout",
          "text": [
            "         software    security    calculas  programming\n",
            "count  453.000000  438.000000  371.000000   221.000000\n",
            "mean    12.267108   11.954338   14.303504    14.479638\n",
            "std      3.544496    3.346191    4.063225     3.379859\n",
            "min      2.000000    3.000000    6.500000     5.000000\n",
            "25%     10.000000   10.000000   11.000000    12.000000\n",
            "50%     12.000000   12.000000   14.500000    15.000000\n",
            "75%     15.000000   14.000000   18.000000    17.000000\n",
            "max     20.000000   20.000000   20.000000    20.000000\n"
          ]
        }
      ]
    },
    {
      "cell_type": "code",
      "source": [
        "# Get the dimensions of the dataset (number of rows and columns)\n",
        "print(df.shape)"
      ],
      "metadata": {
        "colab": {
          "base_uri": "https://localhost:8080/"
        },
        "id": "dpYHTttrhL30",
        "outputId": "9e78cd5e-4410-4ec2-89d2-f74223481f12"
      },
      "execution_count": 278,
      "outputs": [
        {
          "output_type": "stream",
          "name": "stdout",
          "text": [
            "(458, 5)\n"
          ]
        }
      ]
    },
    {
      "cell_type": "code",
      "source": [
        "# Display the data types of each column\n",
        "print(df.dtypes)"
      ],
      "metadata": {
        "colab": {
          "base_uri": "https://localhost:8080/"
        },
        "id": "vpwzFZbJhXP3",
        "outputId": "aecc52d4-1ed7-4738-8a48-4222ff4ad7c1"
      },
      "execution_count": 279,
      "outputs": [
        {
          "output_type": "stream",
          "name": "stdout",
          "text": [
            "gender          object\n",
            "software       float64\n",
            "security       float64\n",
            "calculas       float64\n",
            "programming    float64\n",
            "dtype: object\n"
          ]
        }
      ]
    },
    {
      "cell_type": "code",
      "source": [
        "# Check for missing values\n",
        "print(\"Missing values: \\n\")\n",
        "print(df.isnull().sum())"
      ],
      "metadata": {
        "colab": {
          "base_uri": "https://localhost:8080/"
        },
        "id": "NCQnTuCerdaH",
        "outputId": "d030dced-862c-43fd-9f54-4bb3e9fe73a1"
      },
      "execution_count": 280,
      "outputs": [
        {
          "output_type": "stream",
          "name": "stdout",
          "text": [
            "Missing values: \n",
            "\n",
            "gender           0\n",
            "software         5\n",
            "security        20\n",
            "calculas        87\n",
            "programming    237\n",
            "dtype: int64\n"
          ]
        }
      ]
    },
    {
      "cell_type": "code",
      "source": [
        "# Check for duplicates\n",
        "print(\"\\nDuplicates:\")\n",
        "print(df.duplicated().sum())"
      ],
      "metadata": {
        "colab": {
          "base_uri": "https://localhost:8080/"
        },
        "id": "VpAKEpQNrn-_",
        "outputId": "30656a18-5d66-40fd-eadc-935b02959040"
      },
      "execution_count": 281,
      "outputs": [
        {
          "output_type": "stream",
          "name": "stdout",
          "text": [
            "\n",
            "Duplicates:\n",
            "17\n"
          ]
        }
      ]
    },
    {
      "cell_type": "code",
      "source": [
        "#Data Preprocessing:\n",
        "\n"
      ],
      "metadata": {
        "id": "SgHtcVJxsKLE"
      },
      "execution_count": 282,
      "outputs": []
    },
    {
      "cell_type": "code",
      "source": [
        "\n",
        "# Remove duplicates\n",
        "df = df.drop_duplicates()\n",
        "\n",
        "# Print the shape of the DataFrame after removing duplicates to verify\n",
        "print(\"DataFrame shape after removing duplicates:\", df.shape)\n"
      ],
      "metadata": {
        "colab": {
          "base_uri": "https://localhost:8080/"
        },
        "id": "yJDuXYb7Bi5w",
        "outputId": "e4543d89-e674-4e54-d260-bf0b3b2bc845"
      },
      "execution_count": 283,
      "outputs": [
        {
          "output_type": "stream",
          "name": "stdout",
          "text": [
            "DataFrame shape after removing duplicates: (441, 5)\n"
          ]
        }
      ]
    },
    {
      "cell_type": "code",
      "source": [
        "import pandas as pd\n",
        "import numpy as np\n",
        "\n",
        "# Check for missing values\n",
        "print(\"Missing values before imputation:\")\n",
        "print(df.isnull().sum())\n",
        "\n",
        "# Function to impute missing values using row mean (for numeric data)\n",
        "def impute_with_row_mean(row, exclude_column):\n",
        "    # Convert relevant values to numeric (handling potential errors)\n",
        "    row_numeric = pd.to_numeric(row, errors='coerce')\n",
        "\n",
        "    # Filter columns to use, excluding specified column, 'gender', and non-numeric values\n",
        "    cols_to_use = [col for col in row_numeric.index if (col != exclude_column) and (col != 'gender') and np.issubdtype(row_numeric[col].dtype, np.number)]\n",
        "\n",
        "    # Calculate mean only if there are valid values to use\n",
        "    if cols_to_use:\n",
        "        row_mean = row_numeric[cols_to_use].mean(skipna=True)\n",
        "    else:\n",
        "        row_mean = np.nan\n",
        "\n",
        "    return row.fillna(row_mean)\n",
        "\n",
        "# Apply the imputation function row-wise for all columns except 'gender'\n",
        "all_cols = [col for col in df.columns if col != 'gender']\n",
        "for col in all_cols:\n",
        "    df[col] = df.apply(lambda row: impute_with_row_mean(row, 'gender'), axis=1)[col]\n",
        "\n",
        "# Convert all columns EXCEPT 'gender' to numeric\n",
        "numeric_cols = [col for col in df.columns if col != 'gender']\n",
        "df[numeric_cols] = df[numeric_cols].astype(float)\n",
        "\n",
        "# Check for missing values after imputation and conversion\n",
        "print(\"\\nMissing values after imputation:\")\n",
        "print(df.isnull().sum())\n",
        "print(df.tail())\n"
      ],
      "metadata": {
        "colab": {
          "base_uri": "https://localhost:8080/"
        },
        "id": "zTzdkXmO2VWA",
        "outputId": "a1681edb-f462-4c83-b669-8e3edbc9e816"
      },
      "execution_count": 284,
      "outputs": [
        {
          "output_type": "stream",
          "name": "stdout",
          "text": [
            "Missing values before imputation:\n",
            "gender           0\n",
            "software         5\n",
            "security        20\n",
            "calculas        75\n",
            "programming    222\n",
            "dtype: int64\n",
            "\n",
            "Missing values after imputation:\n",
            "gender         0\n",
            "software       0\n",
            "security       0\n",
            "calculas       0\n",
            "programming    0\n",
            "dtype: int64\n",
            "    gender  software  security  calculas  programming\n",
            "453   male      20.0      19.0      18.5    19.166667\n",
            "454   male      20.0      19.0      19.0    19.333333\n",
            "455   male      13.0      13.0      10.0    12.000000\n",
            "456   male      19.0      12.0      20.0    17.000000\n",
            "457   male      15.0      10.0      12.5    12.500000\n"
          ]
        }
      ]
    },
    {
      "cell_type": "code",
      "source": [
        "print(df.tail())\n",
        "# Check for missing values\n",
        "print(\"Missing values: \\n\")\n",
        "print(df.isnull().sum())\n"
      ],
      "metadata": {
        "colab": {
          "base_uri": "https://localhost:8080/"
        },
        "id": "-fb_UFlc4_4o",
        "outputId": "ca0620f1-ffce-44f3-a020-c15cf61ae8c6"
      },
      "execution_count": 285,
      "outputs": [
        {
          "output_type": "stream",
          "name": "stdout",
          "text": [
            "    gender  software  security  calculas  programming\n",
            "453   male      20.0      19.0      18.5    19.166667\n",
            "454   male      20.0      19.0      19.0    19.333333\n",
            "455   male      13.0      13.0      10.0    12.000000\n",
            "456   male      19.0      12.0      20.0    17.000000\n",
            "457   male      15.0      10.0      12.5    12.500000\n",
            "Missing values: \n",
            "\n",
            "gender         0\n",
            "software       0\n",
            "security       0\n",
            "calculas       0\n",
            "programming    0\n",
            "dtype: int64\n"
          ]
        }
      ]
    },
    {
      "cell_type": "code",
      "source": [
        "from sklearn.preprocessing import LabelEncoder\n",
        "label_encoder = LabelEncoder()\n",
        "df['gender_encoded'] = label_encoder.fit_transform(df['gender'])\n",
        "\n",
        "\n",
        "# Display the encoded DataFrame\n",
        "print(\"Encoded DataFrame:\")\n",
        "print(df.head())"
      ],
      "metadata": {
        "colab": {
          "base_uri": "https://localhost:8080/"
        },
        "id": "Tb65iA65tWB-",
        "outputId": "a96bf38a-17cb-4d55-b2ca-f48b0fd4fe53"
      },
      "execution_count": 286,
      "outputs": [
        {
          "output_type": "stream",
          "name": "stdout",
          "text": [
            "Encoded DataFrame:\n",
            "  gender  software   security   calculas  programming  gender_encoded\n",
            "0   male      10.0   6.000000  11.666667         19.0               1\n",
            "1   male       9.0  12.000000   9.500000         16.0               1\n",
            "2   male      12.0  12.333333   7.000000         18.0               1\n",
            "3   male      10.0   6.000000   9.666667         13.0               1\n",
            "4   male      13.0  10.000000  11.666667         12.0               1\n"
          ]
        }
      ]
    },
    {
      "cell_type": "code",
      "source": [
        "print(\"One-hot encoded 'gender' column: \\n\")\n",
        "x=0\n",
        "y=0\n",
        "for i in df['gender_encoded']:\n",
        "  if i==1:\n",
        "    x+=1\n",
        "  else:\n",
        "    y+=1\n",
        "print(\"Male:\",x)\n",
        "print(\"Female:\",y)\n"
      ],
      "metadata": {
        "colab": {
          "base_uri": "https://localhost:8080/"
        },
        "id": "r-Q6Y8XoxMFc",
        "outputId": "f1024581-fa0a-4c1c-feda-8b1b0a2dca04"
      },
      "execution_count": 287,
      "outputs": [
        {
          "output_type": "stream",
          "name": "stdout",
          "text": [
            "One-hot encoded 'gender' column: \n",
            "\n",
            "Male: 284\n",
            "Female: 157\n"
          ]
        }
      ]
    },
    {
      "cell_type": "code",
      "source": [
        "from sklearn.preprocessing import MinMaxScaler\n",
        "# Select the numerical columns to scale\n",
        "numeric_cols = df.select_dtypes(include='number').columns\n",
        "\n",
        "# Initialize the MinMaxScaler\n",
        "scaler = MinMaxScaler()\n",
        "\n",
        "# Fit and transform the numerical columns\n",
        "df[numeric_cols] = scaler.fit_transform(df[numeric_cols])\n",
        "\n",
        "# Display the scaled DataFrame\n",
        "print(\"Scaled DataFrame:\")\n",
        "print(df.head())"
      ],
      "metadata": {
        "colab": {
          "base_uri": "https://localhost:8080/"
        },
        "id": "ezGR_uNXwxJC",
        "outputId": "51ff21ce-0711-4663-8a71-62817903237e"
      },
      "execution_count": 288,
      "outputs": [
        {
          "output_type": "stream",
          "name": "stdout",
          "text": [
            "Scaled DataFrame:\n",
            "  gender  software  security  calculas  programming  gender_encoded\n",
            "0   male  0.444444  0.176471  0.479167       0.9375             1.0\n",
            "1   male  0.388889  0.529412  0.343750       0.7500             1.0\n",
            "2   male  0.555556  0.549020  0.187500       0.8750             1.0\n",
            "3   male  0.444444  0.176471  0.354167       0.5625             1.0\n",
            "4   male  0.611111  0.411765  0.479167       0.5000             1.0\n"
          ]
        }
      ]
    },
    {
      "cell_type": "code",
      "source": [
        "df.dtypes"
      ],
      "metadata": {
        "colab": {
          "base_uri": "https://localhost:8080/"
        },
        "id": "jHhEF03V7hlf",
        "outputId": "2a8001be-02ca-4bfa-ecba-45a8228e4eb3"
      },
      "execution_count": 289,
      "outputs": [
        {
          "output_type": "execute_result",
          "data": {
            "text/plain": [
              "gender             object\n",
              "software          float64\n",
              "security          float64\n",
              "calculas          float64\n",
              "programming       float64\n",
              "gender_encoded    float64\n",
              "dtype: object"
            ]
          },
          "metadata": {},
          "execution_count": 289
        }
      ]
    },
    {
      "cell_type": "code",
      "source": [
        "#Visualization:\n"
      ],
      "metadata": {
        "id": "0WQ2gD1q1Sjq"
      },
      "execution_count": 290,
      "outputs": []
    },
    {
      "cell_type": "code",
      "source": [
        "import matplotlib.pyplot as plt\n",
        "\n",
        "# Example: Create a histogram of a numeric variable\n",
        "plt.hist(df['calculas'], bins=20, color='skyblue', edgecolor='black')\n",
        "plt.xlabel('Value')\n",
        "plt.ylabel('Frequency')\n",
        "plt.title('Histogram of Numeric Column')\n",
        "plt.show()\n"
      ],
      "metadata": {
        "colab": {
          "base_uri": "https://localhost:8080/",
          "height": 472
        },
        "id": "-fctYKLBzVD1",
        "outputId": "1103fa17-e28e-437d-9475-575c82aeaf9a"
      },
      "execution_count": 291,
      "outputs": [
        {
          "output_type": "display_data",
          "data": {
            "text/plain": [
              "<Figure size 640x480 with 1 Axes>"
            ],
            "image/png": "[encoded data removed]"
          },
          "metadata": {}
        }
      ]
    },
    {
      "cell_type": "code",
      "source": [
        "import seaborn as sns\n",
        "\n",
        "# Example: Create a boxplot to visualize the distribution of a numeric variable by category\n",
        "sns.boxplot(x='gender_encoded', y='programming', data=df)\n",
        "plt.xlabel('Category')\n",
        "plt.ylabel('Numeric Column')\n",
        "plt.title('Boxplot of Numeric Column by Category')\n",
        "plt.show()\n"
      ],
      "metadata": {
        "colab": {
          "base_uri": "https://localhost:8080/",
          "height": 472
        },
        "id": "QgXXK61n0KE1",
        "outputId": "fba201cb-5bdd-42ac-8972-db33807d344c"
      },
      "execution_count": 292,
      "outputs": [
        {
          "output_type": "display_data",
          "data": {
            "text/plain": [
              "<Figure size 640x480 with 1 Axes>"
            ],
            "image/png": "[encoded data removed]"
          },
          "metadata": {}
        }
      ]
    },
    {
      "cell_type": "code",
      "source": [
        "import plotly.express as px\n",
        "\n",
        "# Example: Create an interactive scatter plot\n",
        "fig = px.scatter(df, x='calculas', y='security', color='gender')\n",
        "fig.update_layout(title='Interactive Scatter Plot', xaxis_title='calculas', yaxis_title='security')\n",
        "fig.show()\n"
      ],
      "metadata": {
        "colab": {
          "base_uri": "https://localhost:8080/",
          "height": 542
        },
        "id": "uw8lakqT0NaG",
        "outputId": "09f3c28c-5131-42c9-9364-3943d0d9a03d"
      },
      "execution_count": 293,
      "outputs": [
        {
          "output_type": "display_data",
          "data": {
            "text/html": [
              "<html>\n",
              "<head><meta charset=\"utf-8\" /></head>\n",
              "<body>\n",
              "    <div>            <script src=\"https://cdnjs.cloudflare.com/ajax/libs/mathjax/2.7.5/MathJax.js?config=TeX-AMS-MML_SVG\"></script><script type=\"text/javascript\">if (window.MathJax && window.MathJax.Hub && window.MathJax.Hub.Config) {window.MathJax.Hub.Config({SVG: {font: \"STIX-Web\"}});}</script>                <script type=\"text/javascript\">window.PlotlyConfig = {MathJaxConfig: 'local'};</script>\n",
              "        <script charset=\"utf-8\" src=\"https://cdn.plot.ly/plotly-2.24.1.min.js\"></script>                <div id=\"03d5e043-cfd1-4df1-a04a-35db71e3848e\" class=\"plotly-graph-div\" style=\"height:525px; width:100%;\"></div>            <script type=\"text/javascript\">                                    window.PLOTLYENV=window.PLOTLYENV || {};                                    if (document.getElementById(\"03d5e043-cfd1-4df1-a04a-35db71e3848e\")) {                    Plotly.newPlot(                        \"03d5e043-cfd1-4df1-a04a-35db71e3848e\",                        [{\"hovertemplate\":\"gender=male\\u003cbr\\u003ecalculas=%{x}\\u003cbr\\u003esecurity=%{y}\\u003cextra\\u003e\\u003c\\u002fextra\\u003e\",\"legendgroup\":\"male\",\"marker\":{\"color\":\"#636efa\",\"symbol\":\"circle\"},\"mode\":\"markers\",\"name\":\"male\",\"orientation\":\"v\",\"showlegend\":true,\"x\":[0.47916666666666663,0.34375,0.1875,0.35416666666666663,0.47916666666666663,0.65625,0.65625,0.1875,0.375,0.375,0.375,0.625,0.53125,0.5625,0.39583333333333337,0.5,0.6875,0.4375,0.1875,1.0,0.375,0.34375,0.5625,0.40625,0.34375,1.0,0.7083333333333334,0.5,0.5208333333333334,0.375,0.1875,0.3125,0.1875,1.0,0.41666666666666663,0.29166666666666663,0.5208333333333334,0.71875,0.59375,1.0,0.90625,0.96875,0.625,0.39583333333333337,0.5416666666666666,1.0,0.625,0.5208333333333334,1.0,0.375,0.6875,0.71875,0.625,0.1875,0.5208333333333334,0.5,0.45833333333333337,0.6875,0.9375,1.0,0.6666666666666666,0.47916666666666663,0.4375,0.47916666666666663,0.84375,0.375,0.96875,0.8125,0.84375,0.8125,0.4375,0.90625,0.375,1.0,0.59375,0.4375,0.1875,0.90625,0.5,0.5,0.59375,0.22916666666666669,0.84375,0.84375,0.6875,1.0,1.0,1.0,0.6875,0.90625,0.4375,0.375,0.75,0.96875,1.0,1.0,0.71875,0.375,0.6875,0.875,0.59375,0.28125,0.25,0.8125,0.3125,0.59375,0.6875,0.4375,0.625,0.75,0.53125,1.0,1.0,0.4375,0.75,0.5,0.8125,0.3125,1.0,0.53125,0.27083333333333337,0.375,0.1875,0.78125,0.875,0.59375,1.0,0.375,0.375,0.35416666666666663,0.84375,1.0,0.4375,0.625,0.375,0.29166666666666663,0.4375,0.75,0.375,0.5833333333333334,0.6875,0.375,0.4375,0.6875,0.53125,0.8125,0.5833333333333334,0.5625,0.5,0.5,0.75,0.53125,0.96875,0.5,0.1875,0.875,0.375,0.9375,0.375,0.65625,0.375,1.0,1.0,0.09375,0.375,0.5,0.15625,0.75,0.78125,0.625,0.375,0.96875,0.84375,0.1875,0.375,0.5625,0.59375,0.75,0.25,0.6875,0.25,0.59375,0.5625,0.46875,0.59375,0.375,0.53125,0.375,0.9375,0.0625,0.53125,0.6875,0.90625,0.6875,0.78125,0.34375,0.1875,0.5625,0.8125,0.4375,0.375,0.71875,0.0,0.71875,0.4625,0.9375,0.375,0.21875,0.84375,0.53125,0.71875,0.53125,0.1875,0.25,1.0,0.53125,0.625,0.59375,0.46875,0.6875,0.5625,0.4375,0.625,0.375,0.46875,0.1875,0.21875,1.0,0.875,0.375,0.125,0.25,0.1875,0.1875,0.6875,0.25,1.0,0.5625,1.0,0.1875,0.25,0.53125,1.0,0.5625,0.53125,0.375,0.53125,0.375,0.28125,0.5,0.90625,0.5,0.375,0.84375,0.15625,0.75,0.5,0.21875,0.71875,0.6875,1.0,0.375,0.28125,0.1875,1.0,0.53125,0.375,0.1875,0.9375,0.75,0.375,0.96875,0.6875,0.96875,0.375,0.84375,0.40625,0.34375,0.46875,0.90625,0.9375,0.375,1.0,0.53125],\"xaxis\":\"x\",\"y\":[0.1764705882352941,0.5294117647058822,0.5490196078431373,0.1764705882352941,0.411764705882353,0.6764705882352942,0.588235294117647,0.05882352941176472,0.4313725490196079,0.5098039215686274,0.3725490196078432,0.49019607843137264,0.6568627450980391,0.588235294117647,0.411764705882353,0.4705882352941177,0.6274509803921569,0.607843137254902,0.411764705882353,0.8235294117647058,0.3725490196078432,0.3823529411764706,0.5686274509803921,0.44117647058823534,0.5,0.8235294117647058,0.8235294117647058,0.588235294117647,0.6470588235294117,0.1764705882352941,0.5490196078431373,0.588235294117647,0.6470588235294117,0.588235294117647,0.411764705882353,0.11764705882352944,0.411764705882353,0.11764705882352944,0.5294117647058822,0.7647058823529411,0.6470588235294117,0.7058823529411764,0.7647058823529411,0.411764705882353,0.411764705882353,0.8823529411764706,0.8235294117647058,0.411764705882353,0.8235294117647058,0.7058823529411764,0.23529411764705882,0.23529411764705882,0.23529411764705882,0.8823529411764706,0.5294117647058822,0.411764705882353,0.05882352941176472,0.411764705882353,0.5294117647058822,0.5294117647058822,0.5294117647058822,0.23529411764705882,0.4705882352941177,0.411764705882353,0.411764705882353,0.411764705882353,0.411764705882353,0.411764705882353,0.7058823529411764,0.588235294117647,0.4705882352941177,0.411764705882353,0.588235294117647,0.4705882352941177,0.6470588235294117,0.5294117647058822,0.411764705882353,0.411764705882353,0.1764705882352941,0.411764705882353,0.411764705882353,0.411764705882353,0.8235294117647058,0.7058823529411764,0.6470588235294117,0.411764705882353,0.8235294117647058,0.6470588235294117,0.5294117647058822,0.6470588235294117,0.411764705882353,0.411764705882353,0.411764705882353,0.7647058823529411,0.9411764705882353,0.411764705882353,0.411764705882353,0.7058823529411764,0.588235294117647,0.5294117647058822,0.5294117647058822,0.7647058823529411,0.4705882352941177,0.7058823529411764,0.411764705882353,0.4705882352941177,0.5294117647058822,0.7647058823529411,0.8235294117647058,0.8235294117647058,0.8235294117647058,0.6470588235294117,0.588235294117647,0.9411764705882353,0.5294117647058822,0.5294117647058822,0.8235294117647058,0.411764705882353,0.411764705882353,0.411764705882353,0.23529411764705882,0.588235294117647,0.23529411764705882,0.23529411764705882,0.23529411764705882,0.411764705882353,0.7058823529411764,0.7647058823529411,0.588235294117647,0.411764705882353,0.588235294117647,0.6470588235294117,0.23529411764705882,0.6470588235294117,0.411764705882353,0.411764705882353,0.411764705882353,0.8235294117647058,0.6470588235294117,0.6470588235294117,0.8823529411764706,0.8235294117647058,0.7058823529411764,0.6470588235294117,0.411764705882353,0.4705882352941177,0.6470588235294117,0.411764705882353,0.411764705882353,0.5294117647058822,0.11764705882352944,0.588235294117647,1.0,0.411764705882353,0.588235294117647,0.8235294117647058,0.411764705882353,0.588235294117647,0.6470588235294117,0.4705882352941177,0.6470588235294117,0.9411764705882353,0.8235294117647058,0.0,0.7647058823529411,0.4705882352941177,0.411764705882353,0.8823529411764706,0.6470588235294117,0.588235294117647,0.29411764705882354,0.5294117647058822,0.411764705882353,0.588235294117647,0.23529411764705882,0.23529411764705882,0.4705882352941177,0.4705882352941177,0.588235294117647,0.411764705882353,0.411764705882353,0.8235294117647058,0.5294117647058822,0.588235294117647,0.411764705882353,0.411764705882353,0.411764705882353,0.11764705882352944,0.8823529411764706,0.11764705882352944,0.23529411764705882,0.411764705882353,0.8235294117647058,0.7058823529411764,0.7647058823529411,0.411764705882353,0.411764705882353,0.588235294117647,0.6470588235294117,0.411764705882353,0.7058823529411764,0.7058823529411764,0.1764705882352941,0.4705882352941177,0.6470588235294117,1.0,0.411764705882353,0.23529411764705882,0.7647058823529411,0.588235294117647,0.7647058823529411,0.4705882352941177,0.411764705882353,0.1764705882352941,0.7647058823529411,0.4705882352941177,0.411764705882353,0.411764705882353,0.411764705882353,0.411764705882353,0.4705882352941177,0.411764705882353,0.411764705882353,0.8235294117647058,0.5294117647058822,0.4705882352941177,0.411764705882353,0.7058823529411764,0.411764705882353,0.5294117647058822,0.1764705882352941,0.411764705882353,0.411764705882353,0.5294117647058822,0.6470588235294117,0.4705882352941177,0.588235294117647,0.5294117647058822,0.1764705882352941,0.29411764705882354,0.411764705882353,0.5294117647058822,0.588235294117647,0.5294117647058822,0.1764705882352941,0.411764705882353,0.588235294117647,0.4705882352941177,0.23529411764705882,0.588235294117647,0.411764705882353,0.411764705882353,0.23529411764705882,0.411764705882353,0.411764705882353,0.6470588235294117,0.8235294117647058,0.1764705882352941,0.8235294117647058,0.411764705882353,0.23529411764705882,0.411764705882353,0.23529411764705882,0.1764705882352941,0.411764705882353,0.411764705882353,0.4705882352941177,0.411764705882353,0.8823529411764706,0.411764705882353,0.588235294117647,0.588235294117647,0.8235294117647058,0.7058823529411764,0.7058823529411764,0.6470588235294117,0.411764705882353,0.4705882352941177,0.23529411764705882,0.9411764705882353,0.9411764705882353,0.588235294117647,0.5294117647058822,0.411764705882353],\"yaxis\":\"y\",\"type\":\"scatter\"},{\"hovertemplate\":\"gender=female\\u003cbr\\u003ecalculas=%{x}\\u003cbr\\u003esecurity=%{y}\\u003cextra\\u003e\\u003c\\u002fextra\\u003e\",\"legendgroup\":\"female\",\"marker\":{\"color\":\"#EF553B\",\"symbol\":\"circle\"},\"mode\":\"markers\",\"name\":\"female\",\"orientation\":\"v\",\"showlegend\":true,\"x\":[0.4375,0.6875,0.5625,0.84375,0.65625,0.875,0.53125,0.5625,1.0,0.96875,0.375,0.9375,0.9375,0.6875,0.46875,0.25,0.95,0.5625,0.96875,0.5,0.4375,0.84375,1.0,1.0,0.28125,0.625,0.84375,0.25,0.875,0.6875,0.90625,1.0,0.875,0.84375,0.71875,0.6875,0.96875,0.875,0.9375,0.875,0.9375,0.375,0.9375,0.375,0.71875,0.53125,0.96875,0.5625,0.59375,0.375,0.375,0.59375,0.5625,0.6875,0.75,0.1875,0.96875,0.5,0.5625,0.625,0.9375,0.75,0.3125,0.46875,0.29166666666666663,1.0,0.1875,0.6875,0.33333333333333337,0.9375,0.4375,0.29166666666666663,0.875,0.78125,0.625,0.25,0.6875,0.1875,1.0,0.3125,0.9375,0.75,0.9375,0.9375,1.0,0.75,1.0,1.0,0.6875,0.90625,0.71875,0.375,0.84375,0.65625,0.625,0.84375,0.84375,0.90625,0.5625,0.65625,0.5625,0.4375,0.53125,0.65625,0.1875,0.96875,0.90625,0.3125,0.28125,0.90625,0.90625,0.3125,0.84375,0.40625,0.625,0.6875,0.8125,0.25,1.0,0.6875,0.375,1.0,0.875,0.8125,1.0,0.8125,0.5,0.75,0.78125,0.28125,0.5625,1.0,0.53125,0.9375,1.0,0.65625,1.0,0.90625,0.6875,0.3125,0.53125,0.375,0.375,0.6875,0.34375,0.5625,0.4375,0.4375,0.78125,0.6875,0.1875,0.59375,0.5,0.5,0.875,0.40625,0.3125],\"xaxis\":\"x\",\"y\":[0.7647058823529411,0.411764705882353,0.5294117647058822,0.7058823529411764,0.4705882352941177,0.11764705882352944,0.5294117647058822,0.588235294117647,0.9411764705882353,0.7647058823529411,0.588235294117647,0.5294117647058822,0.7647058823529411,0.4705882352941177,0.588235294117647,0.411764705882353,0.7058823529411764,0.9411764705882353,0.8823529411764706,0.411764705882353,0.411764705882353,0.1764705882352941,0.411764705882353,0.7058823529411764,0.411764705882353,0.411764705882353,0.588235294117647,0.23529411764705882,0.6470588235294117,0.5294117647058822,0.5294117647058822,0.23529411764705882,0.411764705882353,0.411764705882353,0.23529411764705882,0.588235294117647,0.588235294117647,0.5294117647058822,0.588235294117647,0.7058823529411764,0.588235294117647,0.5294117647058822,1.0,0.23529411764705882,0.7647058823529411,0.6470588235294117,0.7647058823529411,0.6470588235294117,0.588235294117647,0.7647058823529411,0.7058823529411764,0.4705882352941177,0.6470588235294117,0.411764705882353,0.411764705882353,0.4705882352941177,0.7058823529411764,0.1764705882352941,0.23529411764705882,0.5294117647058822,0.8823529411764706,0.411764705882353,0.11764705882352944,0.411764705882353,0.411764705882353,0.411764705882353,0.5294117647058822,0.7058823529411764,0.411764705882353,0.411764705882353,0.4705882352941177,0.1764705882352941,0.7058823529411764,0.588235294117647,0.588235294117647,0.4705882352941177,0.4705882352941177,0.4705882352941177,0.7647058823529411,0.11764705882352944,0.411764705882353,0.7647058823529411,0.8235294117647058,0.7647058823529411,0.588235294117647,0.8823529411764706,0.4705882352941177,0.9411764705882353,0.7058823529411764,0.1764705882352941,0.411764705882353,0.6470588235294117,0.7647058823529411,0.411764705882353,0.4705882352941177,0.411764705882353,0.7058823529411764,0.5294117647058822,0.4705882352941177,0.411764705882353,0.23529411764705882,0.411764705882353,0.588235294117647,0.411764705882353,0.411764705882353,0.7647058823529411,0.411764705882353,0.1764705882352941,0.7058823529411764,0.5294117647058822,0.8235294117647058,0.8823529411764706,0.8235294117647058,0.588235294117647,0.411764705882353,0.6470588235294117,0.411764705882353,0.411764705882353,0.7647058823529411,0.6470588235294117,0.7058823529411764,0.6470588235294117,0.7058823529411764,0.4705882352941177,0.8823529411764706,0.5294117647058822,0.7647058823529411,0.9411764705882353,0.6470588235294117,0.411764705882353,0.411764705882353,0.23529411764705882,0.588235294117647,0.411764705882353,0.5294117647058822,0.7647058823529411,0.5294117647058822,0.4705882352941177,0.7647058823529411,0.411764705882353,0.4705882352941177,0.5294117647058822,0.588235294117647,0.8235294117647058,0.411764705882353,0.7647058823529411,0.411764705882353,0.411764705882353,0.5294117647058822,0.5294117647058822,0.411764705882353,0.6470588235294117,0.5294117647058822,0.5294117647058822,0.5294117647058822,0.411764705882353,0.411764705882353],\"yaxis\":\"y\",\"type\":\"scatter\"}],                        {\"template\":{\"data\":{\"histogram2dcontour\":[{\"type\":\"histogram2dcontour\",\"colorbar\":{\"outlinewidth\":0,\"ticks\":\"\"},\"colorscale\":[[0.0,\"#0d0887\"],[0.1111111111111111,\"#46039f\"],[0.2222222222222222,\"#7201a8\"],[0.3333333333333333,\"#9c179e\"],[0.4444444444444444,\"#bd3786\"],[0.5555555555555556,\"#d8576b\"],[0.6666666666666666,\"#ed7953\"],[0.7777777777777778,\"#fb9f3a\"],[0.8888888888888888,\"#fdca26\"],[1.0,\"#f0f921\"]]}],\"choropleth\":[{\"type\":\"choropleth\",\"colorbar\":{\"outlinewidth\":0,\"ticks\":\"\"}}],\"histogram2d\":[{\"type\":\"histogram2d\",\"colorbar\":{\"outlinewidth\":0,\"ticks\":\"\"},\"colorscale\":[[0.0,\"#0d0887\"],[0.1111111111111111,\"#46039f\"],[0.2222222222222222,\"#7201a8\"],[0.3333333333333333,\"#9c179e\"],[0.4444444444444444,\"#bd3786\"],[0.5555555555555556,\"#d8576b\"],[0.6666666666666666,\"#ed7953\"],[0.7777777777777778,\"#fb9f3a\"],[0.8888888888888888,\"#fdca26\"],[1.0,\"#f0f921\"]]}],\"heatmap\":[{\"type\":\"heatmap\",\"colorbar\":{\"outlinewidth\":0,\"ticks\":\"\"},\"colorscale\":[[0.0,\"#0d0887\"],[0.1111111111111111,\"#46039f\"],[0.2222222222222222,\"#7201a8\"],[0.3333333333333333,\"#9c179e\"],[0.4444444444444444,\"#bd3786\"],[0.5555555555555556,\"#d8576b\"],[0.6666666666666666,\"#ed7953\"],[0.7777777777777778,\"#fb9f3a\"],[0.8888888888888888,\"#fdca26\"],[1.0,\"#f0f921\"]]}],\"heatmapgl\":[{\"type\":\"heatmapgl\",\"colorbar\":{\"outlinewidth\":0,\"ticks\":\"\"},\"colorscale\":[[0.0,\"#0d0887\"],[0.1111111111111111,\"#46039f\"],[0.2222222222222222,\"#7201a8\"],[0.3333333333333333,\"#9c179e\"],[0.4444444444444444,\"#bd3786\"],[0.5555555555555556,\"#d8576b\"],[0.6666666666666666,\"#ed7953\"],[0.7777777777777778,\"#fb9f3a\"],[0.8888888888888888,\"#fdca26\"],[1.0,\"#f0f921\"]]}],\"contourcarpet\":[{\"type\":\"contourcarpet\",\"colorbar\":{\"outlinewidth\":0,\"ticks\":\"\"}}],\"contour\":[{\"type\":\"contour\",\"colorbar\":{\"outlinewidth\":0,\"ticks\":\"\"},\"colorscale\":[[0.0,\"#0d0887\"],[0.1111111111111111,\"#46039f\"],[0.2222222222222222,\"#7201a8\"],[0.3333333333333333,\"#9c179e\"],[0.4444444444444444,\"#bd3786\"],[0.5555555555555556,\"#d8576b\"],[0.6666666666666666,\"#ed7953\"],[0.7777777777777778,\"#fb9f3a\"],[0.8888888888888888,\"#fdca26\"],[1.0,\"#f0f921\"]]}],\"surface\":[{\"type\":\"surface\",\"colorbar\":{\"outlinewidth\":0,\"ticks\":\"\"},\"colorscale\":[[0.0,\"#0d0887\"],[0.1111111111111111,\"#46039f\"],[0.2222222222222222,\"#7201a8\"],[0.3333333333333333,\"#9c179e\"],[0.4444444444444444,\"#bd3786\"],[0.5555555555555556,\"#d8576b\"],[0.6666666666666666,\"#ed7953\"],[0.7777777777777778,\"#fb9f3a\"],[0.8888888888888888,\"#fdca26\"],[1.0,\"#f0f921\"]]}],\"mesh3d\":[{\"type\":\"mesh3d\",\"colorbar\":{\"outlinewidth\":0,\"ticks\":\"\"}}],\"scatter\":[{\"fillpattern\":{\"fillmode\":\"overlay\",\"size\":10,\"solidity\":0.2},\"type\":\"scatter\"}],\"parcoords\":[{\"type\":\"parcoords\",\"line\":{\"colorbar\":{\"outlinewidth\":0,\"ticks\":\"\"}}}],\"scatterpolargl\":[{\"type\":\"scatterpolargl\",\"marker\":{\"colorbar\":{\"outlinewidth\":0,\"ticks\":\"\"}}}],\"bar\":[{\"error_x\":{\"color\":\"#2a3f5f\"},\"error_y\":{\"color\":\"#2a3f5f\"},\"marker\":{\"line\":{\"color\":\"#E5ECF6\",\"width\":0.5},\"pattern\":{\"fillmode\":\"overlay\",\"size\":10,\"solidity\":0.2}},\"type\":\"bar\"}],\"scattergeo\":[{\"type\":\"scattergeo\",\"marker\":{\"colorbar\":{\"outlinewidth\":0,\"ticks\":\"\"}}}],\"scatterpolar\":[{\"type\":\"scatterpolar\",\"marker\":{\"colorbar\":{\"outlinewidth\":0,\"ticks\":\"\"}}}],\"histogram\":[{\"marker\":{\"pattern\":{\"fillmode\":\"overlay\",\"size\":10,\"solidity\":0.2}},\"type\":\"histogram\"}],\"scattergl\":[{\"type\":\"scattergl\",\"marker\":{\"colorbar\":{\"outlinewidth\":0,\"ticks\":\"\"}}}],\"scatter3d\":[{\"type\":\"scatter3d\",\"line\":{\"colorbar\":{\"outlinewidth\":0,\"ticks\":\"\"}},\"marker\":{\"colorbar\":{\"outlinewidth\":0,\"ticks\":\"\"}}}],\"scattermapbox\":[{\"type\":\"scattermapbox\",\"marker\":{\"colorbar\":{\"outlinewidth\":0,\"ticks\":\"\"}}}],\"scatterternary\":[{\"type\":\"scatterternary\",\"marker\":{\"colorbar\":{\"outlinewidth\":0,\"ticks\":\"\"}}}],\"scattercarpet\":[{\"type\":\"scattercarpet\",\"marker\":{\"colorbar\":{\"outlinewidth\":0,\"ticks\":\"\"}}}],\"carpet\":[{\"aaxis\":{\"endlinecolor\":\"#2a3f5f\",\"gridcolor\":\"white\",\"linecolor\":\"white\",\"minorgridcolor\":\"white\",\"startlinecolor\":\"#2a3f5f\"},\"baxis\":{\"endlinecolor\":\"#2a3f5f\",\"gridcolor\":\"white\",\"linecolor\":\"white\",\"minorgridcolor\":\"white\",\"startlinecolor\":\"#2a3f5f\"},\"type\":\"carpet\"}],\"table\":[{\"cells\":{\"fill\":{\"color\":\"#EBF0F8\"},\"line\":{\"color\":\"white\"}},\"header\":{\"fill\":{\"color\":\"#C8D4E3\"},\"line\":{\"color\":\"white\"}},\"type\":\"table\"}],\"barpolar\":[{\"marker\":{\"line\":{\"color\":\"#E5ECF6\",\"width\":0.5},\"pattern\":{\"fillmode\":\"overlay\",\"size\":10,\"solidity\":0.2}},\"type\":\"barpolar\"}],\"pie\":[{\"automargin\":true,\"type\":\"pie\"}]},\"layout\":{\"autotypenumbers\":\"strict\",\"colorway\":[\"#636efa\",\"#EF553B\",\"#00cc96\",\"#ab63fa\",\"#FFA15A\",\"#19d3f3\",\"#FF6692\",\"#B6E880\",\"#FF97FF\",\"#FECB52\"],\"font\":{\"color\":\"#2a3f5f\"},\"hovermode\":\"closest\",\"hoverlabel\":{\"align\":\"left\"},\"paper_bgcolor\":\"white\",\"plot_bgcolor\":\"#E5ECF6\",\"polar\":{\"bgcolor\":\"#E5ECF6\",\"angularaxis\":{\"gridcolor\":\"white\",\"linecolor\":\"white\",\"ticks\":\"\"},\"radialaxis\":{\"gridcolor\":\"white\",\"linecolor\":\"white\",\"ticks\":\"\"}},\"ternary\":{\"bgcolor\":\"#E5ECF6\",\"aaxis\":{\"gridcolor\":\"white\",\"linecolor\":\"white\",\"ticks\":\"\"},\"baxis\":{\"gridcolor\":\"white\",\"linecolor\":\"white\",\"ticks\":\"\"},\"caxis\":{\"gridcolor\":\"white\",\"linecolor\":\"white\",\"ticks\":\"\"}},\"coloraxis\":{\"colorbar\":{\"outlinewidth\":0,\"ticks\":\"\"}},\"colorscale\":{\"sequential\":[[0.0,\"#0d0887\"],[0.1111111111111111,\"#46039f\"],[0.2222222222222222,\"#7201a8\"],[0.3333333333333333,\"#9c179e\"],[0.4444444444444444,\"#bd3786\"],[0.5555555555555556,\"#d8576b\"],[0.6666666666666666,\"#ed7953\"],[0.7777777777777778,\"#fb9f3a\"],[0.8888888888888888,\"#fdca26\"],[1.0,\"#f0f921\"]],\"sequentialminus\":[[0.0,\"#0d0887\"],[0.1111111111111111,\"#46039f\"],[0.2222222222222222,\"#7201a8\"],[0.3333333333333333,\"#9c179e\"],[0.4444444444444444,\"#bd3786\"],[0.5555555555555556,\"#d8576b\"],[0.6666666666666666,\"#ed7953\"],[0.7777777777777778,\"#fb9f3a\"],[0.8888888888888888,\"#fdca26\"],[1.0,\"#f0f921\"]],\"diverging\":[[0,\"#8e0152\"],[0.1,\"#c51b7d\"],[0.2,\"#de77ae\"],[0.3,\"#f1b6da\"],[0.4,\"#fde0ef\"],[0.5,\"#f7f7f7\"],[0.6,\"#e6f5d0\"],[0.7,\"#b8e186\"],[0.8,\"#7fbc41\"],[0.9,\"#4d9221\"],[1,\"#276419\"]]},\"xaxis\":{\"gridcolor\":\"white\",\"linecolor\":\"white\",\"ticks\":\"\",\"title\":{\"standoff\":15},\"zerolinecolor\":\"white\",\"automargin\":true,\"zerolinewidth\":2},\"yaxis\":{\"gridcolor\":\"white\",\"linecolor\":\"white\",\"ticks\":\"\",\"title\":{\"standoff\":15},\"zerolinecolor\":\"white\",\"automargin\":true,\"zerolinewidth\":2},\"scene\":{\"xaxis\":{\"backgroundcolor\":\"#E5ECF6\",\"gridcolor\":\"white\",\"linecolor\":\"white\",\"showbackground\":true,\"ticks\":\"\",\"zerolinecolor\":\"white\",\"gridwidth\":2},\"yaxis\":{\"backgroundcolor\":\"#E5ECF6\",\"gridcolor\":\"white\",\"linecolor\":\"white\",\"showbackground\":true,\"ticks\":\"\",\"zerolinecolor\":\"white\",\"gridwidth\":2},\"zaxis\":{\"backgroundcolor\":\"#E5ECF6\",\"gridcolor\":\"white\",\"linecolor\":\"white\",\"showbackground\":true,\"ticks\":\"\",\"zerolinecolor\":\"white\",\"gridwidth\":2}},\"shapedefaults\":{\"line\":{\"color\":\"#2a3f5f\"}},\"annotationdefaults\":{\"arrowcolor\":\"#2a3f5f\",\"arrowhead\":0,\"arrowwidth\":1},\"geo\":{\"bgcolor\":\"white\",\"landcolor\":\"#E5ECF6\",\"subunitcolor\":\"white\",\"showland\":true,\"showlakes\":true,\"lakecolor\":\"white\"},\"title\":{\"x\":0.05},\"mapbox\":{\"style\":\"light\"}}},\"xaxis\":{\"anchor\":\"y\",\"domain\":[0.0,1.0],\"title\":{\"text\":\"calculas\"}},\"yaxis\":{\"anchor\":\"x\",\"domain\":[0.0,1.0],\"title\":{\"text\":\"security\"}},\"legend\":{\"title\":{\"text\":\"gender\"},\"tracegroupgap\":0},\"margin\":{\"t\":60},\"title\":{\"text\":\"Interactive Scatter Plot\"}},                        {\"responsive\": true}                    ).then(function(){\n",
              "                            \n",
              "var gd = document.getElementById('03d5e043-cfd1-4df1-a04a-35db71e3848e');\n",
              "var x = new MutationObserver(function (mutations, observer) {{\n",
              "        var display = window.getComputedStyle(gd).display;\n",
              "        if (!display || display === 'none') {{\n",
              "            console.log([gd, 'removed!']);\n",
              "            Plotly.purge(gd);\n",
              "            observer.disconnect();\n",
              "        }}\n",
              "}});\n",
              "\n",
              "// Listen for the removal of the full notebook cells\n",
              "var notebookContainer = gd.closest('#notebook-container');\n",
              "if (notebookContainer) {{\n",
              "    x.observe(notebookContainer, {childList: true});\n",
              "}}\n",
              "\n",
              "// Listen for the clearing of the current output cell\n",
              "var outputEl = gd.closest('.output');\n",
              "if (outputEl) {{\n",
              "    x.observe(outputEl, {childList: true});\n",
              "}}\n",
              "\n",
              "                        })                };                            </script>        </div>\n",
              "</body>\n",
              "</html>"
            ]
          },
          "metadata": {}
        }
      ]
    },
    {
      "cell_type": "code",
      "source": [
        "# Example: Create a bar plot of categorical variable frequencies\n",
        "df['gender'].value_counts().plot(kind='bar', color='lightgreen')\n",
        "plt.xlabel('Category')\n",
        "plt.ylabel('Frequency')\n",
        "plt.title('Bar Plot of Category Frequencies')\n",
        "plt.show()\n"
      ],
      "metadata": {
        "colab": {
          "base_uri": "https://localhost:8080/",
          "height": 506
        },
        "id": "S3sofqxb0Onh",
        "outputId": "3dfaee97-dd41-43ee-a2a4-645a9c2429b8"
      },
      "execution_count": 294,
      "outputs": [
        {
          "output_type": "display_data",
          "data": {
            "text/plain": [
              "<Figure size 640x480 with 1 Axes>"
            ],
            "image/png": "[encoded data removed]"
          },
          "metadata": {}
        }
      ]
    },
    {
      "cell_type": "code",
      "source": [
        "import seaborn as sns\n",
        "df.drop(columns=['gender'], inplace=True)\n",
        "\n",
        "# Example using Seaborn\n",
        "correlation_matrix = df.corr()\n",
        "sns.heatmap(correlation_matrix, annot=True, cmap='coolwarm')\n",
        "plt.title('Correlation Heatmap')\n",
        "plt.show()\n"
      ],
      "metadata": {
        "colab": {
          "base_uri": "https://localhost:8080/",
          "height": 554
        },
        "id": "XX5tfvp00P__",
        "outputId": "202b6bb3-727b-494d-eae5-ea982665bdff"
      },
      "execution_count": 295,
      "outputs": [
        {
          "output_type": "display_data",
          "data": {
            "text/plain": [
              "<Figure size 640x480 with 2 Axes>"
            ],
            "image/png": "[encoded data removed]"
          },
          "metadata": {}
        }
      ]
    },
    {
      "cell_type": "code",
      "source": [
        "# Assuming 'df' contains the preprocessed DataFrame with features and target variables for each subject\n",
        "from sklearn.model_selection import train_test_split\n",
        "from sklearn.metrics import mean_squared_error, mean_absolute_error, r2_score\n",
        "from sklearn.linear_model import LinearRegression\n",
        "\n",
        "# Define the list of subjects\n",
        "subjects = ['calculas', 'programming', 'software', 'security','gender_encoded']\n",
        "\n",
        "# Iterate over each subject\n",
        "for subject in subjects:\n",
        "    # Separate features and target variable for the current subject\n",
        "    X = df[['calculas', 'programming', 'software', 'security','gender_encoded']]  # Features\n",
        "    y = df[subject]  # Target variable for the current subject\n",
        "\n",
        "    # Split the dataset into training and testing sets for the current subject\n",
        "    X_train, X_test, y_train, y_test = train_test_split(X, y, test_size=0.2, random_state=42)\n",
        "\n",
        "    # Train the regression model for the current subject\n",
        "    model = LinearRegression()\n",
        "    model.fit(X_train, y_train)\n",
        "\n",
        "    # Make predictions for the current subject\n",
        "    predictions = model.predict(X_test)\n",
        "\n",
        "    # Evaluate the model's performance for the current subject\n",
        "    mse = mean_squared_error(y_test, predictions)\n",
        "    mae = mean_absolute_error(y_test, predictions)\n",
        "    r2 = r2_score(y_test, predictions)\n",
        "\n",
        "    # Print evaluation metrics for the current subject\n",
        "    print(\"Subject:\", subject)\n",
        "    print(\"Mean Squared Error:\", mse)\n",
        "    print(\"Mean Absolute Error:\", mae)\n",
        "    print(\"R-squared:\", r2)\n",
        "    print()\n"
      ],
      "metadata": {
        "colab": {
          "base_uri": "https://localhost:8080/"
        },
        "id": "IlfAOe3sIja-",
        "outputId": "2cba20cf-2f96-414d-d14a-152ae55d0d70"
      },
      "execution_count": 296,
      "outputs": [
        {
          "output_type": "stream",
          "name": "stdout",
          "text": [
            "Subject: calculas\n",
            "Mean Squared Error: 5.008155767891124e-30\n",
            "Mean Absolute Error: 1.7113339459636366e-15\n",
            "R-squared: 1.0\n",
            "\n",
            "Subject: programming\n",
            "Mean Squared Error: 3.6235614515465464e-32\n",
            "Mean Absolute Error: 1.5047264308472978e-16\n",
            "R-squared: 1.0\n",
            "\n",
            "Subject: software\n",
            "Mean Squared Error: 2.860635681587873e-30\n",
            "Mean Absolute Error: 1.3003019385321883e-15\n",
            "R-squared: 1.0\n",
            "\n",
            "Subject: security\n",
            "Mean Squared Error: 2.9595094625867463e-30\n",
            "Mean Absolute Error: 1.3222880967445684e-15\n",
            "R-squared: 1.0\n",
            "\n",
            "Subject: gender_encoded\n",
            "Mean Squared Error: 6.923087492083489e-32\n",
            "Mean Absolute Error: 2.1335392607150623e-16\n",
            "R-squared: 1.0\n",
            "\n"
          ]
        }
      ]
    },
    {
      "cell_type": "code",
      "source": [
        "import pandas as pd\n",
        "from sklearn.model_selection import train_test_split\n",
        "from sklearn.linear_model import LogisticRegression\n",
        "from sklearn.metrics import accuracy_score, precision_score, recall_score, f1_score, classification_report, confusion_matrix\n",
        "\n",
        "\n",
        "\n",
        "\n",
        "\n",
        "# Initialize the classifier (e.g., Logistic Regression)\n",
        "classifier = LogisticRegression()\n",
        "\n",
        "# Train the classifier on the training data\n",
        "classifier.fit(X_train, y_train)\n",
        "\n",
        "# Make predictions on the test set\n",
        "predictions = classifier.predict(X_test)\n",
        "\n",
        "# Calculate evaluation metrics\n",
        "accuracy = accuracy_score(y_test, predictions)\n",
        "precision = precision_score(y_test, predictions, average='weighted')\n",
        "recall = recall_score(y_test, predictions, average='weighted')\n",
        "f1 = f1_score(y_test, predictions, average='weighted')\n",
        "\n",
        "# Print evaluation metrics\n",
        "print(\"Accuracy:\", accuracy)\n",
        "print(\"Precision:\", precision)\n",
        "print(\"Recall:\", recall)\n",
        "print(\"F1-score:\", f1)\n",
        "\n",
        "# Classification report\n",
        "print(\"\\nClassification Report:\")\n",
        "print(classification_report(y_test, predictions))\n",
        "\n",
        "\n",
        "\n",
        "\n"
      ],
      "metadata": {
        "id": "jlZWToVv2P6i",
        "colab": {
          "base_uri": "https://localhost:8080/"
        },
        "outputId": "a6d1036c-aecf-489d-b76b-0a81d0ee2413"
      },
      "execution_count": 299,
      "outputs": [
        {
          "output_type": "stream",
          "name": "stdout",
          "text": [
            "Accuracy: 1.0\n",
            "Precision: 1.0\n",
            "Recall: 1.0\n",
            "F1-score: 1.0\n",
            "\n",
            "Classification Report:\n",
            "              precision    recall  f1-score   support\n",
            "\n",
            "         0.0       1.00      1.00      1.00        32\n",
            "         1.0       1.00      1.00      1.00        57\n",
            "\n",
            "    accuracy                           1.00        89\n",
            "   macro avg       1.00      1.00      1.00        89\n",
            "weighted avg       1.00      1.00      1.00        89\n",
            "\n"
          ]
        }
      ]
    },
    {
      "cell_type": "code",
      "source": [
        "import matplotlib.pyplot as plt\n",
        "import seaborn as sns\n",
        "\n",
        "# Create the confusion matrix\n",
        "conf_matrix = confusion_matrix(y_test, predictions)\n",
        "\n",
        "# Plot the confusion matrix as a heatmap\n",
        "plt.figure(figsize=(8, 6))\n",
        "sns.heatmap(conf_matrix, annot=True, cmap='Blues', fmt='d', cbar=False,\n",
        "            xticklabels=['Predicted Male', 'Predicted Female'],\n",
        "            yticklabels=['Actual Male', 'Actual Female'])\n",
        "plt.xlabel('Predicted label')\n",
        "plt.ylabel('True label')\n",
        "plt.title('Confusion Matrix for Gender Prediction')\n",
        "plt.show()\n",
        "\n"
      ],
      "metadata": {
        "colab": {
          "base_uri": "https://localhost:8080/",
          "height": 564
        },
        "id": "EORxUTvuLuqU",
        "outputId": "b8ab6bc0-2fbe-4740-cfc3-8479b0b9263d"
      },
      "execution_count": 300,
      "outputs": [
        {
          "output_type": "display_data",
          "data": {
            "text/plain": [
              "<Figure size 800x600 with 1 Axes>"
            ],
            "image/png": "[encoded data removed]"
          },
          "metadata": {}
        }
      ]
    },
    {
      "cell_type": "code",
      "source": [
        "# Separate testing dataset into male and female subsets\n",
        "male_indices = X_test['gender_encoded'] == 1.0\n",
        "female_indices = X_test['gender_encoded'] == 0.0\n",
        "\n",
        "X_test_male = X_test[male_indices]\n",
        "y_test_male = y_test[male_indices]\n",
        "\n",
        "X_test_female = X_test[female_indices]\n",
        "y_test_female = y_test[female_indices]\n",
        "\n",
        "# Make predictions for male and female subsets separately\n",
        "predictions_male = classifier.predict(X_test_male)\n",
        "predictions_female = classifier.predict(X_test_female)\n",
        "\n",
        "# Evaluate model performance for male and female predictions\n",
        "accuracy_male = accuracy_score(y_test_male, predictions_male)\n",
        "precision_male = precision_score(y_test_male, predictions_male)\n",
        "recall_male = recall_score(y_test_male, predictions_male)\n",
        "f1_male = f1_score(y_test_male, predictions_male)\n",
        "\n",
        "accuracy_female = accuracy_score(y_test_female, predictions_female)\n",
        "precision_female = precision_score(y_test_female, predictions_female)\n",
        "recall_female = recall_score(y_test_female, predictions_female)\n",
        "f1_female = f1_score(y_test_female, predictions_female)\n",
        "\n",
        "# Print evaluation metrics for male and female predictions\n",
        "print(\"Male Predictions:\")\n",
        "print(\"Accuracy:\", accuracy_male)\n",
        "print(\"Precision:\", precision_male)\n",
        "print(\"Recall:\", recall_male)\n",
        "print(\"F1-score:\", f1_male)\n",
        "\n",
        "print(\"\\nFemale Predictions:\")\n",
        "print(\"Accuracy:\", accuracy_female)\n",
        "print(\"Precision:\", precision_female)\n",
        "print(\"Recall:\", recall_female)\n",
        "print(\"F1-score:\", f1_female)\n"
      ],
      "metadata": {
        "colab": {
          "base_uri": "https://localhost:8080/"
        },
        "id": "9tLi6nmTNVno",
        "outputId": "4b8fd955-74c9-4f59-9eab-551c9753c71c"
      },
      "execution_count": 302,
      "outputs": [
        {
          "output_type": "stream",
          "name": "stdout",
          "text": [
            "Male Predictions:\n",
            "Accuracy: 1.0\n",
            "Precision: 1.0\n",
            "Recall: 1.0\n",
            "F1-score: 1.0\n",
            "\n",
            "Female Predictions:\n",
            "Accuracy: 1.0\n",
            "Precision: 0.0\n",
            "Recall: 0.0\n",
            "F1-score: 0.0\n"
          ]
        },
        {
          "output_type": "stream",
          "name": "stderr",
          "text": [
            "/usr/local/lib/python3.10/dist-packages/sklearn/metrics/_classification.py:1344: UndefinedMetricWarning:\n",
            "\n",
            "Precision is ill-defined and being set to 0.0 due to no predicted samples. Use `zero_division` parameter to control this behavior.\n",
            "\n",
            "/usr/local/lib/python3.10/dist-packages/sklearn/metrics/_classification.py:1344: UndefinedMetricWarning:\n",
            "\n",
            "Recall is ill-defined and being set to 0.0 due to no true samples. Use `zero_division` parameter to control this behavior.\n",
            "\n",
            "/usr/local/lib/python3.10/dist-packages/sklearn/metrics/_classification.py:1609: UndefinedMetricWarning:\n",
            "\n",
            "F-score is ill-defined and being set to 0.0 due to no true nor predicted samples. Use `zero_division` parameter to control this behavior.\n",
            "\n"
          ]
        }
      ]
    }
  ]
}